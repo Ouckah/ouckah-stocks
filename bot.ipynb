{
 "cells": [
  {
   "cell_type": "code",
   "execution_count": 10,
   "id": "8aa5aee5",
   "metadata": {},
   "outputs": [
    {
     "name": "stdout",
     "output_type": "stream",
     "text": [
      "Requirement already satisfied: MetaTrader5 in c:\\users\\datbl\\anaconda3\\lib\\site-packages (5.0.4424)Note: you may need to restart the kernel to use updated packages.\n",
      "\n",
      "Requirement already satisfied: numpy>=1.7 in c:\\users\\datbl\\anaconda3\\lib\\site-packages (from MetaTrader5) (1.24.3)\n"
     ]
    }
   ],
   "source": [
    "pip install MetaTrader5"
   ]
  },
  {
   "cell_type": "code",
   "execution_count": 214,
   "id": "6efb6ed8",
   "metadata": {},
   "outputs": [],
   "source": [
    "import pandas as pd\n",
    "import MetaTrader5 as mt\n",
    "\n",
    "import time\n",
    "from datetime import datetime, time as dt_time, timedelta\n",
    "from pytz import timezone"
   ]
  },
  {
   "cell_type": "code",
   "execution_count": 88,
   "id": "246373f1",
   "metadata": {},
   "outputs": [],
   "source": [
    "if not mt.initialize():\n",
    "    print(\"Error: Failed to initialize MetaTrader.\")"
   ]
  },
  {
   "cell_type": "code",
   "execution_count": 83,
   "id": "e36048f9",
   "metadata": {},
   "outputs": [
    {
     "name": "stdout",
     "output_type": "stream",
     "text": [
      "Error: Failed to login.\n"
     ]
    }
   ],
   "source": [
    "from config import login, password, server\n",
    "\n",
    "if not mt.login(login, password, server):\n",
    "    print(\"Error: Failed to login.\")"
   ]
  },
  {
   "cell_type": "code",
   "execution_count": 124,
   "id": "85ee9800",
   "metadata": {},
   "outputs": [
    {
     "name": "stdout",
     "output_type": "stream",
     "text": [
      "AccountInfo(login=24936217, trade_mode=2, leverage=100, limit_orders=5000, margin_so_mode=0, trade_allowed=True, trade_expert=True, margin_mode=2, currency_digits=2, fifo_close=True, balance=99.62, credit=0.0, profit=0.0, equity=99.62, margin=0.0, margin_free=99.62, margin_level=0.0, margin_so_call=120.0, margin_so_so=100.0, margin_initial=0.0, margin_maintenance=0.0, assets=0.0, liabilities=0.0, commission_blocked=0.0, name='Aidan Ouckama', server='Forex.com-Live 536', currency='USD', company='Gain Capital Group, LLC')\n",
      "\n",
      "Login Number: 24936217\n",
      "Balance: 99.62\n",
      "Equity: 99.62\n"
     ]
    }
   ],
   "source": [
    "account_info = mt.account_info()\n",
    "print(account_info)\n",
    "\n",
    "if not account_info:\n",
    "    print(\"Error: Account not found.\")\n",
    "else:\n",
    "    login_number = account_info.login\n",
    "    balance = account_info.balance\n",
    "    equity = account_info.equity\n",
    "\n",
    "    print()\n",
    "    print(f\"Login Number: {login_number}\")\n",
    "    print(f\"Balance: {balance}\")\n",
    "    print(f\"Equity: {equity}\")"
   ]
  },
  {
   "cell_type": "code",
   "execution_count": 93,
   "id": "eea45015",
   "metadata": {},
   "outputs": [],
   "source": [
    "SYMBOL = \"EURUSD\""
   ]
  },
  {
   "cell_type": "code",
   "execution_count": 125,
   "id": "8b37cf56",
   "metadata": {},
   "outputs": [
    {
     "data": {
      "text/plain": [
       "{'custom': False,\n",
       " 'chart_mode': 0,\n",
       " 'select': True,\n",
       " 'visible': True,\n",
       " 'session_deals': 0,\n",
       " 'session_buy_orders': 0,\n",
       " 'session_sell_orders': 0,\n",
       " 'volume': 0,\n",
       " 'volumehigh': 0,\n",
       " 'volumelow': 0,\n",
       " 'time': 1724191237,\n",
       " 'digits': 5,\n",
       " 'spread': 14,\n",
       " 'spread_float': True,\n",
       " 'ticks_bookdepth': 0,\n",
       " 'trade_calc_mode': 0,\n",
       " 'trade_mode': 4,\n",
       " 'start_time': 0,\n",
       " 'expiration_time': 0,\n",
       " 'trade_stops_level': 1,\n",
       " 'trade_freeze_level': 0,\n",
       " 'trade_exemode': 2,\n",
       " 'swap_mode': 0,\n",
       " 'swap_rollover3days': 3,\n",
       " 'margin_hedged_use_leg': True,\n",
       " 'expiration_mode': 15,\n",
       " 'filling_mode': 1,\n",
       " 'order_mode': 119,\n",
       " 'order_gtc_mode': 0,\n",
       " 'option_mode': 0,\n",
       " 'option_right': 0,\n",
       " 'bid': 1.1118999999999999,\n",
       " 'bidhigh': 1.11218,\n",
       " 'bidlow': 1.10712,\n",
       " 'ask': 1.11204,\n",
       " 'askhigh': 1.11234,\n",
       " 'asklow': 1.10727,\n",
       " 'last': 0.0,\n",
       " 'lasthigh': 0.0,\n",
       " 'lastlow': 0.0,\n",
       " 'volume_real': 0.0,\n",
       " 'volumehigh_real': 0.0,\n",
       " 'volumelow_real': 0.0,\n",
       " 'option_strike': 0.0,\n",
       " 'point': 1e-05,\n",
       " 'trade_tick_value': 1.0,\n",
       " 'trade_tick_value_profit': 1.0,\n",
       " 'trade_tick_value_loss': 1.0,\n",
       " 'trade_tick_size': 1e-05,\n",
       " 'trade_contract_size': 100000.0,\n",
       " 'trade_accrued_interest': 0.0,\n",
       " 'trade_face_value': 0.0,\n",
       " 'trade_liquidity_rate': 0.0,\n",
       " 'volume_min': 0.01,\n",
       " 'volume_max': 50.0,\n",
       " 'volume_step': 0.01,\n",
       " 'volume_limit': 500.0,\n",
       " 'swap_long': 0.0,\n",
       " 'swap_short': 0.0,\n",
       " 'margin_initial': 0.0,\n",
       " 'margin_maintenance': 0.0,\n",
       " 'session_volume': 0.0,\n",
       " 'session_turnover': 0.0,\n",
       " 'session_interest': 0.0,\n",
       " 'session_buy_orders_volume': 0.0,\n",
       " 'session_sell_orders_volume': 0.0,\n",
       " 'session_open': 1.10804,\n",
       " 'session_close': 1.10834,\n",
       " 'session_aw': 0.0,\n",
       " 'session_price_settlement': 0.0,\n",
       " 'session_price_limit_min': 0.0,\n",
       " 'session_price_limit_max': 0.0,\n",
       " 'margin_hedged': 0.0,\n",
       " 'price_change': 0.3194,\n",
       " 'price_volatility': 0.0,\n",
       " 'price_theoretical': 0.0,\n",
       " 'price_greeks_delta': 0.0,\n",
       " 'price_greeks_theta': 0.0,\n",
       " 'price_greeks_gamma': 0.0,\n",
       " 'price_greeks_vega': 0.0,\n",
       " 'price_greeks_rho': 0.0,\n",
       " 'price_greeks_omega': 0.0,\n",
       " 'price_sensitivity': 0.0,\n",
       " 'basis': '',\n",
       " 'category': '',\n",
       " 'currency_base': 'EUR',\n",
       " 'currency_profit': 'USD',\n",
       " 'currency_margin': 'EUR',\n",
       " 'bank': 'MT5PriceFeeder',\n",
       " 'description': 'Euro vs US Dollar',\n",
       " 'exchange': '',\n",
       " 'formula': '',\n",
       " 'isin': '',\n",
       " 'name': 'EURUSD',\n",
       " 'page': '',\n",
       " 'path': 'Forex\\\\Majors\\\\EURUSD'}"
      ]
     },
     "execution_count": 125,
     "metadata": {},
     "output_type": "execute_result"
    }
   ],
   "source": [
    "mt.symbol_info(SYMBOL)._asdict()"
   ]
  },
  {
   "cell_type": "code",
   "execution_count": 126,
   "id": "01583772",
   "metadata": {},
   "outputs": [
    {
     "data": {
      "text/html": [
       "<div>\n",
       "<style scoped>\n",
       "    .dataframe tbody tr th:only-of-type {\n",
       "        vertical-align: middle;\n",
       "    }\n",
       "\n",
       "    .dataframe tbody tr th {\n",
       "        vertical-align: top;\n",
       "    }\n",
       "\n",
       "    .dataframe thead th {\n",
       "        text-align: right;\n",
       "    }\n",
       "</style>\n",
       "<table border=\"1\" class=\"dataframe\">\n",
       "  <thead>\n",
       "    <tr style=\"text-align: right;\">\n",
       "      <th></th>\n",
       "      <th>time</th>\n",
       "      <th>open</th>\n",
       "      <th>high</th>\n",
       "      <th>low</th>\n",
       "      <th>close</th>\n",
       "      <th>tick_volume</th>\n",
       "      <th>spread</th>\n",
       "      <th>real_volume</th>\n",
       "    </tr>\n",
       "  </thead>\n",
       "  <tbody>\n",
       "    <tr>\n",
       "      <th>0</th>\n",
       "      <td>1724126400</td>\n",
       "      <td>1.10811</td>\n",
       "      <td>1.10815</td>\n",
       "      <td>1.10807</td>\n",
       "      <td>1.10814</td>\n",
       "      <td>58</td>\n",
       "      <td>17</td>\n",
       "      <td>0</td>\n",
       "    </tr>\n",
       "    <tr>\n",
       "      <th>1</th>\n",
       "      <td>1724126460</td>\n",
       "      <td>1.10814</td>\n",
       "      <td>1.10827</td>\n",
       "      <td>1.10811</td>\n",
       "      <td>1.10827</td>\n",
       "      <td>80</td>\n",
       "      <td>17</td>\n",
       "      <td>0</td>\n",
       "    </tr>\n",
       "    <tr>\n",
       "      <th>2</th>\n",
       "      <td>1724126520</td>\n",
       "      <td>1.10826</td>\n",
       "      <td>1.10845</td>\n",
       "      <td>1.10826</td>\n",
       "      <td>1.10845</td>\n",
       "      <td>72</td>\n",
       "      <td>17</td>\n",
       "      <td>0</td>\n",
       "    </tr>\n",
       "    <tr>\n",
       "      <th>3</th>\n",
       "      <td>1724126580</td>\n",
       "      <td>1.10846</td>\n",
       "      <td>1.10848</td>\n",
       "      <td>1.10840</td>\n",
       "      <td>1.10845</td>\n",
       "      <td>64</td>\n",
       "      <td>17</td>\n",
       "      <td>0</td>\n",
       "    </tr>\n",
       "    <tr>\n",
       "      <th>4</th>\n",
       "      <td>1724126640</td>\n",
       "      <td>1.10844</td>\n",
       "      <td>1.10859</td>\n",
       "      <td>1.10842</td>\n",
       "      <td>1.10857</td>\n",
       "      <td>57</td>\n",
       "      <td>17</td>\n",
       "      <td>0</td>\n",
       "    </tr>\n",
       "    <tr>\n",
       "      <th>...</th>\n",
       "      <td>...</td>\n",
       "      <td>...</td>\n",
       "      <td>...</td>\n",
       "      <td>...</td>\n",
       "      <td>...</td>\n",
       "      <td>...</td>\n",
       "      <td>...</td>\n",
       "      <td>...</td>\n",
       "    </tr>\n",
       "    <tr>\n",
       "      <th>896</th>\n",
       "      <td>1724180160</td>\n",
       "      <td>1.11050</td>\n",
       "      <td>1.11059</td>\n",
       "      <td>1.11041</td>\n",
       "      <td>1.11054</td>\n",
       "      <td>54</td>\n",
       "      <td>17</td>\n",
       "      <td>0</td>\n",
       "    </tr>\n",
       "    <tr>\n",
       "      <th>897</th>\n",
       "      <td>1724180220</td>\n",
       "      <td>1.11053</td>\n",
       "      <td>1.11054</td>\n",
       "      <td>1.11042</td>\n",
       "      <td>1.11042</td>\n",
       "      <td>42</td>\n",
       "      <td>17</td>\n",
       "      <td>0</td>\n",
       "    </tr>\n",
       "    <tr>\n",
       "      <th>898</th>\n",
       "      <td>1724180280</td>\n",
       "      <td>1.11046</td>\n",
       "      <td>1.11055</td>\n",
       "      <td>1.11042</td>\n",
       "      <td>1.11049</td>\n",
       "      <td>93</td>\n",
       "      <td>18</td>\n",
       "      <td>0</td>\n",
       "    </tr>\n",
       "    <tr>\n",
       "      <th>899</th>\n",
       "      <td>1724180340</td>\n",
       "      <td>1.11049</td>\n",
       "      <td>1.11050</td>\n",
       "      <td>1.11034</td>\n",
       "      <td>1.11043</td>\n",
       "      <td>94</td>\n",
       "      <td>18</td>\n",
       "      <td>0</td>\n",
       "    </tr>\n",
       "    <tr>\n",
       "      <th>900</th>\n",
       "      <td>1724180400</td>\n",
       "      <td>1.11043</td>\n",
       "      <td>1.11068</td>\n",
       "      <td>1.11042</td>\n",
       "      <td>1.11044</td>\n",
       "      <td>76</td>\n",
       "      <td>17</td>\n",
       "      <td>0</td>\n",
       "    </tr>\n",
       "  </tbody>\n",
       "</table>\n",
       "<p>901 rows × 8 columns</p>\n",
       "</div>"
      ],
      "text/plain": [
       "           time     open     high      low    close  tick_volume  spread  \\\n",
       "0    1724126400  1.10811  1.10815  1.10807  1.10814           58      17   \n",
       "1    1724126460  1.10814  1.10827  1.10811  1.10827           80      17   \n",
       "2    1724126520  1.10826  1.10845  1.10826  1.10845           72      17   \n",
       "3    1724126580  1.10846  1.10848  1.10840  1.10845           64      17   \n",
       "4    1724126640  1.10844  1.10859  1.10842  1.10857           57      17   \n",
       "..          ...      ...      ...      ...      ...          ...     ...   \n",
       "896  1724180160  1.11050  1.11059  1.11041  1.11054           54      17   \n",
       "897  1724180220  1.11053  1.11054  1.11042  1.11042           42      17   \n",
       "898  1724180280  1.11046  1.11055  1.11042  1.11049           93      18   \n",
       "899  1724180340  1.11049  1.11050  1.11034  1.11043           94      18   \n",
       "900  1724180400  1.11043  1.11068  1.11042  1.11044           76      17   \n",
       "\n",
       "     real_volume  \n",
       "0              0  \n",
       "1              0  \n",
       "2              0  \n",
       "3              0  \n",
       "4              0  \n",
       "..           ...  \n",
       "896            0  \n",
       "897            0  \n",
       "898            0  \n",
       "899            0  \n",
       "900            0  \n",
       "\n",
       "[901 rows x 8 columns]"
      ]
     },
     "execution_count": 126,
     "metadata": {},
     "output_type": "execute_result"
    }
   ],
   "source": [
    "ohlc = pd.DataFrame(mt.copy_rates_range(SYMBOL, mt.TIMEFRAME_M1, datetime(2024, 8, 20), datetime.now()))\n",
    "ohlc"
   ]
  },
  {
   "cell_type": "code",
   "execution_count": 127,
   "id": "af1f3041",
   "metadata": {},
   "outputs": [
    {
     "data": {
      "text/html": [
       "<div>\n",
       "<style scoped>\n",
       "    .dataframe tbody tr th:only-of-type {\n",
       "        vertical-align: middle;\n",
       "    }\n",
       "\n",
       "    .dataframe tbody tr th {\n",
       "        vertical-align: top;\n",
       "    }\n",
       "\n",
       "    .dataframe thead th {\n",
       "        text-align: right;\n",
       "    }\n",
       "</style>\n",
       "<table border=\"1\" class=\"dataframe\">\n",
       "  <thead>\n",
       "    <tr style=\"text-align: right;\">\n",
       "      <th></th>\n",
       "      <th>time</th>\n",
       "      <th>open</th>\n",
       "      <th>high</th>\n",
       "      <th>low</th>\n",
       "      <th>close</th>\n",
       "      <th>tick_volume</th>\n",
       "      <th>spread</th>\n",
       "      <th>real_volume</th>\n",
       "    </tr>\n",
       "  </thead>\n",
       "  <tbody>\n",
       "    <tr>\n",
       "      <th>0</th>\n",
       "      <td>2024-08-20 04:00:00</td>\n",
       "      <td>1.10811</td>\n",
       "      <td>1.10815</td>\n",
       "      <td>1.10807</td>\n",
       "      <td>1.10814</td>\n",
       "      <td>58</td>\n",
       "      <td>17</td>\n",
       "      <td>0</td>\n",
       "    </tr>\n",
       "    <tr>\n",
       "      <th>1</th>\n",
       "      <td>2024-08-20 04:01:00</td>\n",
       "      <td>1.10814</td>\n",
       "      <td>1.10827</td>\n",
       "      <td>1.10811</td>\n",
       "      <td>1.10827</td>\n",
       "      <td>80</td>\n",
       "      <td>17</td>\n",
       "      <td>0</td>\n",
       "    </tr>\n",
       "    <tr>\n",
       "      <th>2</th>\n",
       "      <td>2024-08-20 04:02:00</td>\n",
       "      <td>1.10826</td>\n",
       "      <td>1.10845</td>\n",
       "      <td>1.10826</td>\n",
       "      <td>1.10845</td>\n",
       "      <td>72</td>\n",
       "      <td>17</td>\n",
       "      <td>0</td>\n",
       "    </tr>\n",
       "    <tr>\n",
       "      <th>3</th>\n",
       "      <td>2024-08-20 04:03:00</td>\n",
       "      <td>1.10846</td>\n",
       "      <td>1.10848</td>\n",
       "      <td>1.10840</td>\n",
       "      <td>1.10845</td>\n",
       "      <td>64</td>\n",
       "      <td>17</td>\n",
       "      <td>0</td>\n",
       "    </tr>\n",
       "    <tr>\n",
       "      <th>4</th>\n",
       "      <td>2024-08-20 04:04:00</td>\n",
       "      <td>1.10844</td>\n",
       "      <td>1.10859</td>\n",
       "      <td>1.10842</td>\n",
       "      <td>1.10857</td>\n",
       "      <td>57</td>\n",
       "      <td>17</td>\n",
       "      <td>0</td>\n",
       "    </tr>\n",
       "    <tr>\n",
       "      <th>...</th>\n",
       "      <td>...</td>\n",
       "      <td>...</td>\n",
       "      <td>...</td>\n",
       "      <td>...</td>\n",
       "      <td>...</td>\n",
       "      <td>...</td>\n",
       "      <td>...</td>\n",
       "      <td>...</td>\n",
       "    </tr>\n",
       "    <tr>\n",
       "      <th>896</th>\n",
       "      <td>2024-08-20 18:56:00</td>\n",
       "      <td>1.11050</td>\n",
       "      <td>1.11059</td>\n",
       "      <td>1.11041</td>\n",
       "      <td>1.11054</td>\n",
       "      <td>54</td>\n",
       "      <td>17</td>\n",
       "      <td>0</td>\n",
       "    </tr>\n",
       "    <tr>\n",
       "      <th>897</th>\n",
       "      <td>2024-08-20 18:57:00</td>\n",
       "      <td>1.11053</td>\n",
       "      <td>1.11054</td>\n",
       "      <td>1.11042</td>\n",
       "      <td>1.11042</td>\n",
       "      <td>42</td>\n",
       "      <td>17</td>\n",
       "      <td>0</td>\n",
       "    </tr>\n",
       "    <tr>\n",
       "      <th>898</th>\n",
       "      <td>2024-08-20 18:58:00</td>\n",
       "      <td>1.11046</td>\n",
       "      <td>1.11055</td>\n",
       "      <td>1.11042</td>\n",
       "      <td>1.11049</td>\n",
       "      <td>93</td>\n",
       "      <td>18</td>\n",
       "      <td>0</td>\n",
       "    </tr>\n",
       "    <tr>\n",
       "      <th>899</th>\n",
       "      <td>2024-08-20 18:59:00</td>\n",
       "      <td>1.11049</td>\n",
       "      <td>1.11050</td>\n",
       "      <td>1.11034</td>\n",
       "      <td>1.11043</td>\n",
       "      <td>94</td>\n",
       "      <td>18</td>\n",
       "      <td>0</td>\n",
       "    </tr>\n",
       "    <tr>\n",
       "      <th>900</th>\n",
       "      <td>2024-08-20 19:00:00</td>\n",
       "      <td>1.11043</td>\n",
       "      <td>1.11068</td>\n",
       "      <td>1.11042</td>\n",
       "      <td>1.11044</td>\n",
       "      <td>76</td>\n",
       "      <td>17</td>\n",
       "      <td>0</td>\n",
       "    </tr>\n",
       "  </tbody>\n",
       "</table>\n",
       "<p>901 rows × 8 columns</p>\n",
       "</div>"
      ],
      "text/plain": [
       "                   time     open     high      low    close  tick_volume  \\\n",
       "0   2024-08-20 04:00:00  1.10811  1.10815  1.10807  1.10814           58   \n",
       "1   2024-08-20 04:01:00  1.10814  1.10827  1.10811  1.10827           80   \n",
       "2   2024-08-20 04:02:00  1.10826  1.10845  1.10826  1.10845           72   \n",
       "3   2024-08-20 04:03:00  1.10846  1.10848  1.10840  1.10845           64   \n",
       "4   2024-08-20 04:04:00  1.10844  1.10859  1.10842  1.10857           57   \n",
       "..                  ...      ...      ...      ...      ...          ...   \n",
       "896 2024-08-20 18:56:00  1.11050  1.11059  1.11041  1.11054           54   \n",
       "897 2024-08-20 18:57:00  1.11053  1.11054  1.11042  1.11042           42   \n",
       "898 2024-08-20 18:58:00  1.11046  1.11055  1.11042  1.11049           93   \n",
       "899 2024-08-20 18:59:00  1.11049  1.11050  1.11034  1.11043           94   \n",
       "900 2024-08-20 19:00:00  1.11043  1.11068  1.11042  1.11044           76   \n",
       "\n",
       "     spread  real_volume  \n",
       "0        17            0  \n",
       "1        17            0  \n",
       "2        17            0  \n",
       "3        17            0  \n",
       "4        17            0  \n",
       "..      ...          ...  \n",
       "896      17            0  \n",
       "897      17            0  \n",
       "898      18            0  \n",
       "899      18            0  \n",
       "900      17            0  \n",
       "\n",
       "[901 rows x 8 columns]"
      ]
     },
     "execution_count": 127,
     "metadata": {},
     "output_type": "execute_result"
    }
   ],
   "source": [
    "ohlc['time']  = pd.to_datetime(ohlc['time'], unit='s')\n",
    "ohlc"
   ]
  },
  {
   "cell_type": "code",
   "execution_count": 226,
   "id": "262950f3",
   "metadata": {},
   "outputs": [
    {
     "data": {
      "application/vnd.plotly.v1+json": {
       "config": {
        "plotlyServerURL": "https://plot.ly"
       },
       "data": [
        {
         "hovertemplate": "time=%{x}<br>close=%{y}<extra></extra>",
         "legendgroup": "",
         "line": {
          "color": "#636efa",
          "dash": "solid"
         },
         "marker": {
          "symbol": "circle"
         },
         "mode": "lines",
         "name": "",
         "orientation": "v",
         "showlegend": false,
         "type": "scatter",
         "x": [
          "2024-08-21T03:00:00",
          "2024-08-21T03:01:00",
          "2024-08-21T03:02:00",
          "2024-08-21T03:03:00",
          "2024-08-21T03:04:00",
          "2024-08-21T03:05:00",
          "2024-08-21T03:06:00",
          "2024-08-21T03:07:00",
          "2024-08-21T03:08:00",
          "2024-08-21T03:09:00",
          "2024-08-21T03:10:00",
          "2024-08-21T03:11:00",
          "2024-08-21T03:12:00",
          "2024-08-21T03:13:00",
          "2024-08-21T03:14:00",
          "2024-08-21T03:15:00",
          "2024-08-21T03:16:00",
          "2024-08-21T03:17:00",
          "2024-08-21T03:18:00",
          "2024-08-21T03:19:00",
          "2024-08-21T03:20:00",
          "2024-08-21T03:21:00",
          "2024-08-21T03:22:00",
          "2024-08-21T03:23:00",
          "2024-08-21T03:24:00",
          "2024-08-21T03:25:00",
          "2024-08-21T03:26:00",
          "2024-08-21T03:27:00",
          "2024-08-21T03:28:00",
          "2024-08-21T03:29:00",
          "2024-08-21T03:30:00",
          "2024-08-21T03:31:00",
          "2024-08-21T03:32:00",
          "2024-08-21T03:33:00",
          "2024-08-21T03:34:00",
          "2024-08-21T03:35:00",
          "2024-08-21T03:36:00",
          "2024-08-21T03:37:00",
          "2024-08-21T03:38:00",
          "2024-08-21T03:39:00",
          "2024-08-21T03:40:00",
          "2024-08-21T03:41:00",
          "2024-08-21T03:42:00",
          "2024-08-21T03:43:00",
          "2024-08-21T03:44:00",
          "2024-08-21T03:45:00",
          "2024-08-21T03:46:00",
          "2024-08-21T03:47:00",
          "2024-08-21T03:48:00",
          "2024-08-21T03:49:00",
          "2024-08-21T03:50:00",
          "2024-08-21T03:51:00",
          "2024-08-21T03:52:00",
          "2024-08-21T03:53:00",
          "2024-08-21T03:54:00",
          "2024-08-21T03:55:00",
          "2024-08-21T03:56:00",
          "2024-08-21T03:57:00",
          "2024-08-21T03:58:00",
          "2024-08-21T03:59:00",
          "2024-08-21T04:00:00",
          "2024-08-21T04:01:00",
          "2024-08-21T04:02:00",
          "2024-08-21T04:03:00",
          "2024-08-21T04:04:00",
          "2024-08-21T04:05:00",
          "2024-08-21T04:06:00",
          "2024-08-21T04:07:00",
          "2024-08-21T04:08:00",
          "2024-08-21T04:09:00",
          "2024-08-21T04:10:00",
          "2024-08-21T04:11:00",
          "2024-08-21T04:12:00",
          "2024-08-21T04:13:00",
          "2024-08-21T04:14:00",
          "2024-08-21T04:15:00",
          "2024-08-21T04:16:00",
          "2024-08-21T04:17:00",
          "2024-08-21T04:18:00",
          "2024-08-21T04:19:00",
          "2024-08-21T04:20:00",
          "2024-08-21T04:21:00",
          "2024-08-21T04:22:00"
         ],
         "xaxis": "x",
         "y": [
          1.1126800000000001,
          1.11264,
          1.11254,
          1.11256,
          1.11256,
          1.1126,
          1.11263,
          1.11259,
          1.11261,
          1.11267,
          1.11258,
          1.11258,
          1.1126,
          1.1126,
          1.1125099999999999,
          1.11257,
          1.11249,
          1.1126,
          1.1127,
          1.11265,
          1.1126800000000001,
          1.11276,
          1.11279,
          1.11287,
          1.11298,
          1.11298,
          1.11297,
          1.11301,
          1.1131,
          1.11311,
          1.11307,
          1.11313,
          1.11313,
          1.11307,
          1.11287,
          1.11286,
          1.11293,
          1.11295,
          1.11283,
          1.11275,
          1.11272,
          1.11276,
          1.11277,
          1.11273,
          1.1126800000000001,
          1.1125,
          1.11253,
          1.11258,
          1.11259,
          1.11253,
          1.11257,
          1.11255,
          1.11258,
          1.11264,
          1.11249,
          1.11254,
          1.11265,
          1.11266,
          1.11266,
          1.11269,
          1.11264,
          1.1126,
          1.1126,
          1.11266,
          1.11266,
          1.1127,
          1.11265,
          1.11258,
          1.11263,
          1.11258,
          1.1127,
          1.1127,
          1.11253,
          1.11253,
          1.11254,
          1.11252,
          1.11262,
          1.11269,
          1.1127,
          1.11262,
          1.11258,
          1.11253,
          1.11258
         ],
         "yaxis": "y"
        }
       ],
       "layout": {
        "legend": {
         "tracegroupgap": 0
        },
        "margin": {
         "t": 60
        },
        "template": {
         "data": {
          "bar": [
           {
            "error_x": {
             "color": "#2a3f5f"
            },
            "error_y": {
             "color": "#2a3f5f"
            },
            "marker": {
             "line": {
              "color": "#E5ECF6",
              "width": 0.5
             },
             "pattern": {
              "fillmode": "overlay",
              "size": 10,
              "solidity": 0.2
             }
            },
            "type": "bar"
           }
          ],
          "barpolar": [
           {
            "marker": {
             "line": {
              "color": "#E5ECF6",
              "width": 0.5
             },
             "pattern": {
              "fillmode": "overlay",
              "size": 10,
              "solidity": 0.2
             }
            },
            "type": "barpolar"
           }
          ],
          "carpet": [
           {
            "aaxis": {
             "endlinecolor": "#2a3f5f",
             "gridcolor": "white",
             "linecolor": "white",
             "minorgridcolor": "white",
             "startlinecolor": "#2a3f5f"
            },
            "baxis": {
             "endlinecolor": "#2a3f5f",
             "gridcolor": "white",
             "linecolor": "white",
             "minorgridcolor": "white",
             "startlinecolor": "#2a3f5f"
            },
            "type": "carpet"
           }
          ],
          "choropleth": [
           {
            "colorbar": {
             "outlinewidth": 0,
             "ticks": ""
            },
            "type": "choropleth"
           }
          ],
          "contour": [
           {
            "colorbar": {
             "outlinewidth": 0,
             "ticks": ""
            },
            "colorscale": [
             [
              0,
              "#0d0887"
             ],
             [
              0.1111111111111111,
              "#46039f"
             ],
             [
              0.2222222222222222,
              "#7201a8"
             ],
             [
              0.3333333333333333,
              "#9c179e"
             ],
             [
              0.4444444444444444,
              "#bd3786"
             ],
             [
              0.5555555555555556,
              "#d8576b"
             ],
             [
              0.6666666666666666,
              "#ed7953"
             ],
             [
              0.7777777777777778,
              "#fb9f3a"
             ],
             [
              0.8888888888888888,
              "#fdca26"
             ],
             [
              1,
              "#f0f921"
             ]
            ],
            "type": "contour"
           }
          ],
          "contourcarpet": [
           {
            "colorbar": {
             "outlinewidth": 0,
             "ticks": ""
            },
            "type": "contourcarpet"
           }
          ],
          "heatmap": [
           {
            "colorbar": {
             "outlinewidth": 0,
             "ticks": ""
            },
            "colorscale": [
             [
              0,
              "#0d0887"
             ],
             [
              0.1111111111111111,
              "#46039f"
             ],
             [
              0.2222222222222222,
              "#7201a8"
             ],
             [
              0.3333333333333333,
              "#9c179e"
             ],
             [
              0.4444444444444444,
              "#bd3786"
             ],
             [
              0.5555555555555556,
              "#d8576b"
             ],
             [
              0.6666666666666666,
              "#ed7953"
             ],
             [
              0.7777777777777778,
              "#fb9f3a"
             ],
             [
              0.8888888888888888,
              "#fdca26"
             ],
             [
              1,
              "#f0f921"
             ]
            ],
            "type": "heatmap"
           }
          ],
          "heatmapgl": [
           {
            "colorbar": {
             "outlinewidth": 0,
             "ticks": ""
            },
            "colorscale": [
             [
              0,
              "#0d0887"
             ],
             [
              0.1111111111111111,
              "#46039f"
             ],
             [
              0.2222222222222222,
              "#7201a8"
             ],
             [
              0.3333333333333333,
              "#9c179e"
             ],
             [
              0.4444444444444444,
              "#bd3786"
             ],
             [
              0.5555555555555556,
              "#d8576b"
             ],
             [
              0.6666666666666666,
              "#ed7953"
             ],
             [
              0.7777777777777778,
              "#fb9f3a"
             ],
             [
              0.8888888888888888,
              "#fdca26"
             ],
             [
              1,
              "#f0f921"
             ]
            ],
            "type": "heatmapgl"
           }
          ],
          "histogram": [
           {
            "marker": {
             "pattern": {
              "fillmode": "overlay",
              "size": 10,
              "solidity": 0.2
             }
            },
            "type": "histogram"
           }
          ],
          "histogram2d": [
           {
            "colorbar": {
             "outlinewidth": 0,
             "ticks": ""
            },
            "colorscale": [
             [
              0,
              "#0d0887"
             ],
             [
              0.1111111111111111,
              "#46039f"
             ],
             [
              0.2222222222222222,
              "#7201a8"
             ],
             [
              0.3333333333333333,
              "#9c179e"
             ],
             [
              0.4444444444444444,
              "#bd3786"
             ],
             [
              0.5555555555555556,
              "#d8576b"
             ],
             [
              0.6666666666666666,
              "#ed7953"
             ],
             [
              0.7777777777777778,
              "#fb9f3a"
             ],
             [
              0.8888888888888888,
              "#fdca26"
             ],
             [
              1,
              "#f0f921"
             ]
            ],
            "type": "histogram2d"
           }
          ],
          "histogram2dcontour": [
           {
            "colorbar": {
             "outlinewidth": 0,
             "ticks": ""
            },
            "colorscale": [
             [
              0,
              "#0d0887"
             ],
             [
              0.1111111111111111,
              "#46039f"
             ],
             [
              0.2222222222222222,
              "#7201a8"
             ],
             [
              0.3333333333333333,
              "#9c179e"
             ],
             [
              0.4444444444444444,
              "#bd3786"
             ],
             [
              0.5555555555555556,
              "#d8576b"
             ],
             [
              0.6666666666666666,
              "#ed7953"
             ],
             [
              0.7777777777777778,
              "#fb9f3a"
             ],
             [
              0.8888888888888888,
              "#fdca26"
             ],
             [
              1,
              "#f0f921"
             ]
            ],
            "type": "histogram2dcontour"
           }
          ],
          "mesh3d": [
           {
            "colorbar": {
             "outlinewidth": 0,
             "ticks": ""
            },
            "type": "mesh3d"
           }
          ],
          "parcoords": [
           {
            "line": {
             "colorbar": {
              "outlinewidth": 0,
              "ticks": ""
             }
            },
            "type": "parcoords"
           }
          ],
          "pie": [
           {
            "automargin": true,
            "type": "pie"
           }
          ],
          "scatter": [
           {
            "fillpattern": {
             "fillmode": "overlay",
             "size": 10,
             "solidity": 0.2
            },
            "type": "scatter"
           }
          ],
          "scatter3d": [
           {
            "line": {
             "colorbar": {
              "outlinewidth": 0,
              "ticks": ""
             }
            },
            "marker": {
             "colorbar": {
              "outlinewidth": 0,
              "ticks": ""
             }
            },
            "type": "scatter3d"
           }
          ],
          "scattercarpet": [
           {
            "marker": {
             "colorbar": {
              "outlinewidth": 0,
              "ticks": ""
             }
            },
            "type": "scattercarpet"
           }
          ],
          "scattergeo": [
           {
            "marker": {
             "colorbar": {
              "outlinewidth": 0,
              "ticks": ""
             }
            },
            "type": "scattergeo"
           }
          ],
          "scattergl": [
           {
            "marker": {
             "colorbar": {
              "outlinewidth": 0,
              "ticks": ""
             }
            },
            "type": "scattergl"
           }
          ],
          "scattermapbox": [
           {
            "marker": {
             "colorbar": {
              "outlinewidth": 0,
              "ticks": ""
             }
            },
            "type": "scattermapbox"
           }
          ],
          "scatterpolar": [
           {
            "marker": {
             "colorbar": {
              "outlinewidth": 0,
              "ticks": ""
             }
            },
            "type": "scatterpolar"
           }
          ],
          "scatterpolargl": [
           {
            "marker": {
             "colorbar": {
              "outlinewidth": 0,
              "ticks": ""
             }
            },
            "type": "scatterpolargl"
           }
          ],
          "scatterternary": [
           {
            "marker": {
             "colorbar": {
              "outlinewidth": 0,
              "ticks": ""
             }
            },
            "type": "scatterternary"
           }
          ],
          "surface": [
           {
            "colorbar": {
             "outlinewidth": 0,
             "ticks": ""
            },
            "colorscale": [
             [
              0,
              "#0d0887"
             ],
             [
              0.1111111111111111,
              "#46039f"
             ],
             [
              0.2222222222222222,
              "#7201a8"
             ],
             [
              0.3333333333333333,
              "#9c179e"
             ],
             [
              0.4444444444444444,
              "#bd3786"
             ],
             [
              0.5555555555555556,
              "#d8576b"
             ],
             [
              0.6666666666666666,
              "#ed7953"
             ],
             [
              0.7777777777777778,
              "#fb9f3a"
             ],
             [
              0.8888888888888888,
              "#fdca26"
             ],
             [
              1,
              "#f0f921"
             ]
            ],
            "type": "surface"
           }
          ],
          "table": [
           {
            "cells": {
             "fill": {
              "color": "#EBF0F8"
             },
             "line": {
              "color": "white"
             }
            },
            "header": {
             "fill": {
              "color": "#C8D4E3"
             },
             "line": {
              "color": "white"
             }
            },
            "type": "table"
           }
          ]
         },
         "layout": {
          "annotationdefaults": {
           "arrowcolor": "#2a3f5f",
           "arrowhead": 0,
           "arrowwidth": 1
          },
          "autotypenumbers": "strict",
          "coloraxis": {
           "colorbar": {
            "outlinewidth": 0,
            "ticks": ""
           }
          },
          "colorscale": {
           "diverging": [
            [
             0,
             "#8e0152"
            ],
            [
             0.1,
             "#c51b7d"
            ],
            [
             0.2,
             "#de77ae"
            ],
            [
             0.3,
             "#f1b6da"
            ],
            [
             0.4,
             "#fde0ef"
            ],
            [
             0.5,
             "#f7f7f7"
            ],
            [
             0.6,
             "#e6f5d0"
            ],
            [
             0.7,
             "#b8e186"
            ],
            [
             0.8,
             "#7fbc41"
            ],
            [
             0.9,
             "#4d9221"
            ],
            [
             1,
             "#276419"
            ]
           ],
           "sequential": [
            [
             0,
             "#0d0887"
            ],
            [
             0.1111111111111111,
             "#46039f"
            ],
            [
             0.2222222222222222,
             "#7201a8"
            ],
            [
             0.3333333333333333,
             "#9c179e"
            ],
            [
             0.4444444444444444,
             "#bd3786"
            ],
            [
             0.5555555555555556,
             "#d8576b"
            ],
            [
             0.6666666666666666,
             "#ed7953"
            ],
            [
             0.7777777777777778,
             "#fb9f3a"
            ],
            [
             0.8888888888888888,
             "#fdca26"
            ],
            [
             1,
             "#f0f921"
            ]
           ],
           "sequentialminus": [
            [
             0,
             "#0d0887"
            ],
            [
             0.1111111111111111,
             "#46039f"
            ],
            [
             0.2222222222222222,
             "#7201a8"
            ],
            [
             0.3333333333333333,
             "#9c179e"
            ],
            [
             0.4444444444444444,
             "#bd3786"
            ],
            [
             0.5555555555555556,
             "#d8576b"
            ],
            [
             0.6666666666666666,
             "#ed7953"
            ],
            [
             0.7777777777777778,
             "#fb9f3a"
            ],
            [
             0.8888888888888888,
             "#fdca26"
            ],
            [
             1,
             "#f0f921"
            ]
           ]
          },
          "colorway": [
           "#636efa",
           "#EF553B",
           "#00cc96",
           "#ab63fa",
           "#FFA15A",
           "#19d3f3",
           "#FF6692",
           "#B6E880",
           "#FF97FF",
           "#FECB52"
          ],
          "font": {
           "color": "#2a3f5f"
          },
          "geo": {
           "bgcolor": "white",
           "lakecolor": "white",
           "landcolor": "#E5ECF6",
           "showlakes": true,
           "showland": true,
           "subunitcolor": "white"
          },
          "hoverlabel": {
           "align": "left"
          },
          "hovermode": "closest",
          "mapbox": {
           "style": "light"
          },
          "paper_bgcolor": "white",
          "plot_bgcolor": "#E5ECF6",
          "polar": {
           "angularaxis": {
            "gridcolor": "white",
            "linecolor": "white",
            "ticks": ""
           },
           "bgcolor": "#E5ECF6",
           "radialaxis": {
            "gridcolor": "white",
            "linecolor": "white",
            "ticks": ""
           }
          },
          "scene": {
           "xaxis": {
            "backgroundcolor": "#E5ECF6",
            "gridcolor": "white",
            "gridwidth": 2,
            "linecolor": "white",
            "showbackground": true,
            "ticks": "",
            "zerolinecolor": "white"
           },
           "yaxis": {
            "backgroundcolor": "#E5ECF6",
            "gridcolor": "white",
            "gridwidth": 2,
            "linecolor": "white",
            "showbackground": true,
            "ticks": "",
            "zerolinecolor": "white"
           },
           "zaxis": {
            "backgroundcolor": "#E5ECF6",
            "gridcolor": "white",
            "gridwidth": 2,
            "linecolor": "white",
            "showbackground": true,
            "ticks": "",
            "zerolinecolor": "white"
           }
          },
          "shapedefaults": {
           "line": {
            "color": "#2a3f5f"
           }
          },
          "ternary": {
           "aaxis": {
            "gridcolor": "white",
            "linecolor": "white",
            "ticks": ""
           },
           "baxis": {
            "gridcolor": "white",
            "linecolor": "white",
            "ticks": ""
           },
           "bgcolor": "#E5ECF6",
           "caxis": {
            "gridcolor": "white",
            "linecolor": "white",
            "ticks": ""
           }
          },
          "title": {
           "x": 0.05
          },
          "xaxis": {
           "automargin": true,
           "gridcolor": "white",
           "linecolor": "white",
           "ticks": "",
           "title": {
            "standoff": 15
           },
           "zerolinecolor": "white",
           "zerolinewidth": 2
          },
          "yaxis": {
           "automargin": true,
           "gridcolor": "white",
           "linecolor": "white",
           "ticks": "",
           "title": {
            "standoff": 15
           },
           "zerolinecolor": "white",
           "zerolinewidth": 2
          }
         }
        },
        "xaxis": {
         "anchor": "y",
         "domain": [
          0,
          1
         ],
         "title": {
          "text": "time"
         }
        },
        "yaxis": {
         "anchor": "x",
         "domain": [
          0,
          1
         ],
         "title": {
          "text": "close"
         }
        }
       }
      },
      "text/html": [
       "<div>                            <div id=\"93355f16-c5cd-4e3f-a31a-290ee6943b2b\" class=\"plotly-graph-div\" style=\"height:525px; width:100%;\"></div>            <script type=\"text/javascript\">                require([\"plotly\"], function(Plotly) {                    window.PLOTLYENV=window.PLOTLYENV || {};                                    if (document.getElementById(\"93355f16-c5cd-4e3f-a31a-290ee6943b2b\")) {                    Plotly.newPlot(                        \"93355f16-c5cd-4e3f-a31a-290ee6943b2b\",                        [{\"hovertemplate\":\"time=%{x}<br>close=%{y}<extra></extra>\",\"legendgroup\":\"\",\"line\":{\"color\":\"#636efa\",\"dash\":\"solid\"},\"marker\":{\"symbol\":\"circle\"},\"mode\":\"lines\",\"name\":\"\",\"orientation\":\"v\",\"showlegend\":false,\"x\":[\"2024-08-21T03:00:00\",\"2024-08-21T03:01:00\",\"2024-08-21T03:02:00\",\"2024-08-21T03:03:00\",\"2024-08-21T03:04:00\",\"2024-08-21T03:05:00\",\"2024-08-21T03:06:00\",\"2024-08-21T03:07:00\",\"2024-08-21T03:08:00\",\"2024-08-21T03:09:00\",\"2024-08-21T03:10:00\",\"2024-08-21T03:11:00\",\"2024-08-21T03:12:00\",\"2024-08-21T03:13:00\",\"2024-08-21T03:14:00\",\"2024-08-21T03:15:00\",\"2024-08-21T03:16:00\",\"2024-08-21T03:17:00\",\"2024-08-21T03:18:00\",\"2024-08-21T03:19:00\",\"2024-08-21T03:20:00\",\"2024-08-21T03:21:00\",\"2024-08-21T03:22:00\",\"2024-08-21T03:23:00\",\"2024-08-21T03:24:00\",\"2024-08-21T03:25:00\",\"2024-08-21T03:26:00\",\"2024-08-21T03:27:00\",\"2024-08-21T03:28:00\",\"2024-08-21T03:29:00\",\"2024-08-21T03:30:00\",\"2024-08-21T03:31:00\",\"2024-08-21T03:32:00\",\"2024-08-21T03:33:00\",\"2024-08-21T03:34:00\",\"2024-08-21T03:35:00\",\"2024-08-21T03:36:00\",\"2024-08-21T03:37:00\",\"2024-08-21T03:38:00\",\"2024-08-21T03:39:00\",\"2024-08-21T03:40:00\",\"2024-08-21T03:41:00\",\"2024-08-21T03:42:00\",\"2024-08-21T03:43:00\",\"2024-08-21T03:44:00\",\"2024-08-21T03:45:00\",\"2024-08-21T03:46:00\",\"2024-08-21T03:47:00\",\"2024-08-21T03:48:00\",\"2024-08-21T03:49:00\",\"2024-08-21T03:50:00\",\"2024-08-21T03:51:00\",\"2024-08-21T03:52:00\",\"2024-08-21T03:53:00\",\"2024-08-21T03:54:00\",\"2024-08-21T03:55:00\",\"2024-08-21T03:56:00\",\"2024-08-21T03:57:00\",\"2024-08-21T03:58:00\",\"2024-08-21T03:59:00\",\"2024-08-21T04:00:00\",\"2024-08-21T04:01:00\",\"2024-08-21T04:02:00\",\"2024-08-21T04:03:00\",\"2024-08-21T04:04:00\",\"2024-08-21T04:05:00\",\"2024-08-21T04:06:00\",\"2024-08-21T04:07:00\",\"2024-08-21T04:08:00\",\"2024-08-21T04:09:00\",\"2024-08-21T04:10:00\",\"2024-08-21T04:11:00\",\"2024-08-21T04:12:00\",\"2024-08-21T04:13:00\",\"2024-08-21T04:14:00\",\"2024-08-21T04:15:00\",\"2024-08-21T04:16:00\",\"2024-08-21T04:17:00\",\"2024-08-21T04:18:00\",\"2024-08-21T04:19:00\",\"2024-08-21T04:20:00\",\"2024-08-21T04:21:00\",\"2024-08-21T04:22:00\"],\"xaxis\":\"x\",\"y\":[1.1126800000000001,1.11264,1.11254,1.11256,1.11256,1.1126,1.11263,1.11259,1.11261,1.11267,1.11258,1.11258,1.1126,1.1126,1.1125099999999999,1.11257,1.11249,1.1126,1.1127,1.11265,1.1126800000000001,1.11276,1.11279,1.11287,1.11298,1.11298,1.11297,1.11301,1.1131,1.11311,1.11307,1.11313,1.11313,1.11307,1.11287,1.11286,1.11293,1.11295,1.11283,1.11275,1.11272,1.11276,1.11277,1.11273,1.1126800000000001,1.1125,1.11253,1.11258,1.11259,1.11253,1.11257,1.11255,1.11258,1.11264,1.11249,1.11254,1.11265,1.11266,1.11266,1.11269,1.11264,1.1126,1.1126,1.11266,1.11266,1.1127,1.11265,1.11258,1.11263,1.11258,1.1127,1.1127,1.11253,1.11253,1.11254,1.11252,1.11262,1.11269,1.1127,1.11262,1.11258,1.11253,1.11258],\"yaxis\":\"y\",\"type\":\"scatter\"}],                        {\"template\":{\"data\":{\"histogram2dcontour\":[{\"type\":\"histogram2dcontour\",\"colorbar\":{\"outlinewidth\":0,\"ticks\":\"\"},\"colorscale\":[[0.0,\"#0d0887\"],[0.1111111111111111,\"#46039f\"],[0.2222222222222222,\"#7201a8\"],[0.3333333333333333,\"#9c179e\"],[0.4444444444444444,\"#bd3786\"],[0.5555555555555556,\"#d8576b\"],[0.6666666666666666,\"#ed7953\"],[0.7777777777777778,\"#fb9f3a\"],[0.8888888888888888,\"#fdca26\"],[1.0,\"#f0f921\"]]}],\"choropleth\":[{\"type\":\"choropleth\",\"colorbar\":{\"outlinewidth\":0,\"ticks\":\"\"}}],\"histogram2d\":[{\"type\":\"histogram2d\",\"colorbar\":{\"outlinewidth\":0,\"ticks\":\"\"},\"colorscale\":[[0.0,\"#0d0887\"],[0.1111111111111111,\"#46039f\"],[0.2222222222222222,\"#7201a8\"],[0.3333333333333333,\"#9c179e\"],[0.4444444444444444,\"#bd3786\"],[0.5555555555555556,\"#d8576b\"],[0.6666666666666666,\"#ed7953\"],[0.7777777777777778,\"#fb9f3a\"],[0.8888888888888888,\"#fdca26\"],[1.0,\"#f0f921\"]]}],\"heatmap\":[{\"type\":\"heatmap\",\"colorbar\":{\"outlinewidth\":0,\"ticks\":\"\"},\"colorscale\":[[0.0,\"#0d0887\"],[0.1111111111111111,\"#46039f\"],[0.2222222222222222,\"#7201a8\"],[0.3333333333333333,\"#9c179e\"],[0.4444444444444444,\"#bd3786\"],[0.5555555555555556,\"#d8576b\"],[0.6666666666666666,\"#ed7953\"],[0.7777777777777778,\"#fb9f3a\"],[0.8888888888888888,\"#fdca26\"],[1.0,\"#f0f921\"]]}],\"heatmapgl\":[{\"type\":\"heatmapgl\",\"colorbar\":{\"outlinewidth\":0,\"ticks\":\"\"},\"colorscale\":[[0.0,\"#0d0887\"],[0.1111111111111111,\"#46039f\"],[0.2222222222222222,\"#7201a8\"],[0.3333333333333333,\"#9c179e\"],[0.4444444444444444,\"#bd3786\"],[0.5555555555555556,\"#d8576b\"],[0.6666666666666666,\"#ed7953\"],[0.7777777777777778,\"#fb9f3a\"],[0.8888888888888888,\"#fdca26\"],[1.0,\"#f0f921\"]]}],\"contourcarpet\":[{\"type\":\"contourcarpet\",\"colorbar\":{\"outlinewidth\":0,\"ticks\":\"\"}}],\"contour\":[{\"type\":\"contour\",\"colorbar\":{\"outlinewidth\":0,\"ticks\":\"\"},\"colorscale\":[[0.0,\"#0d0887\"],[0.1111111111111111,\"#46039f\"],[0.2222222222222222,\"#7201a8\"],[0.3333333333333333,\"#9c179e\"],[0.4444444444444444,\"#bd3786\"],[0.5555555555555556,\"#d8576b\"],[0.6666666666666666,\"#ed7953\"],[0.7777777777777778,\"#fb9f3a\"],[0.8888888888888888,\"#fdca26\"],[1.0,\"#f0f921\"]]}],\"surface\":[{\"type\":\"surface\",\"colorbar\":{\"outlinewidth\":0,\"ticks\":\"\"},\"colorscale\":[[0.0,\"#0d0887\"],[0.1111111111111111,\"#46039f\"],[0.2222222222222222,\"#7201a8\"],[0.3333333333333333,\"#9c179e\"],[0.4444444444444444,\"#bd3786\"],[0.5555555555555556,\"#d8576b\"],[0.6666666666666666,\"#ed7953\"],[0.7777777777777778,\"#fb9f3a\"],[0.8888888888888888,\"#fdca26\"],[1.0,\"#f0f921\"]]}],\"mesh3d\":[{\"type\":\"mesh3d\",\"colorbar\":{\"outlinewidth\":0,\"ticks\":\"\"}}],\"scatter\":[{\"fillpattern\":{\"fillmode\":\"overlay\",\"size\":10,\"solidity\":0.2},\"type\":\"scatter\"}],\"parcoords\":[{\"type\":\"parcoords\",\"line\":{\"colorbar\":{\"outlinewidth\":0,\"ticks\":\"\"}}}],\"scatterpolargl\":[{\"type\":\"scatterpolargl\",\"marker\":{\"colorbar\":{\"outlinewidth\":0,\"ticks\":\"\"}}}],\"bar\":[{\"error_x\":{\"color\":\"#2a3f5f\"},\"error_y\":{\"color\":\"#2a3f5f\"},\"marker\":{\"line\":{\"color\":\"#E5ECF6\",\"width\":0.5},\"pattern\":{\"fillmode\":\"overlay\",\"size\":10,\"solidity\":0.2}},\"type\":\"bar\"}],\"scattergeo\":[{\"type\":\"scattergeo\",\"marker\":{\"colorbar\":{\"outlinewidth\":0,\"ticks\":\"\"}}}],\"scatterpolar\":[{\"type\":\"scatterpolar\",\"marker\":{\"colorbar\":{\"outlinewidth\":0,\"ticks\":\"\"}}}],\"histogram\":[{\"marker\":{\"pattern\":{\"fillmode\":\"overlay\",\"size\":10,\"solidity\":0.2}},\"type\":\"histogram\"}],\"scattergl\":[{\"type\":\"scattergl\",\"marker\":{\"colorbar\":{\"outlinewidth\":0,\"ticks\":\"\"}}}],\"scatter3d\":[{\"type\":\"scatter3d\",\"line\":{\"colorbar\":{\"outlinewidth\":0,\"ticks\":\"\"}},\"marker\":{\"colorbar\":{\"outlinewidth\":0,\"ticks\":\"\"}}}],\"scattermapbox\":[{\"type\":\"scattermapbox\",\"marker\":{\"colorbar\":{\"outlinewidth\":0,\"ticks\":\"\"}}}],\"scatterternary\":[{\"type\":\"scatterternary\",\"marker\":{\"colorbar\":{\"outlinewidth\":0,\"ticks\":\"\"}}}],\"scattercarpet\":[{\"type\":\"scattercarpet\",\"marker\":{\"colorbar\":{\"outlinewidth\":0,\"ticks\":\"\"}}}],\"carpet\":[{\"aaxis\":{\"endlinecolor\":\"#2a3f5f\",\"gridcolor\":\"white\",\"linecolor\":\"white\",\"minorgridcolor\":\"white\",\"startlinecolor\":\"#2a3f5f\"},\"baxis\":{\"endlinecolor\":\"#2a3f5f\",\"gridcolor\":\"white\",\"linecolor\":\"white\",\"minorgridcolor\":\"white\",\"startlinecolor\":\"#2a3f5f\"},\"type\":\"carpet\"}],\"table\":[{\"cells\":{\"fill\":{\"color\":\"#EBF0F8\"},\"line\":{\"color\":\"white\"}},\"header\":{\"fill\":{\"color\":\"#C8D4E3\"},\"line\":{\"color\":\"white\"}},\"type\":\"table\"}],\"barpolar\":[{\"marker\":{\"line\":{\"color\":\"#E5ECF6\",\"width\":0.5},\"pattern\":{\"fillmode\":\"overlay\",\"size\":10,\"solidity\":0.2}},\"type\":\"barpolar\"}],\"pie\":[{\"automargin\":true,\"type\":\"pie\"}]},\"layout\":{\"autotypenumbers\":\"strict\",\"colorway\":[\"#636efa\",\"#EF553B\",\"#00cc96\",\"#ab63fa\",\"#FFA15A\",\"#19d3f3\",\"#FF6692\",\"#B6E880\",\"#FF97FF\",\"#FECB52\"],\"font\":{\"color\":\"#2a3f5f\"},\"hovermode\":\"closest\",\"hoverlabel\":{\"align\":\"left\"},\"paper_bgcolor\":\"white\",\"plot_bgcolor\":\"#E5ECF6\",\"polar\":{\"bgcolor\":\"#E5ECF6\",\"angularaxis\":{\"gridcolor\":\"white\",\"linecolor\":\"white\",\"ticks\":\"\"},\"radialaxis\":{\"gridcolor\":\"white\",\"linecolor\":\"white\",\"ticks\":\"\"}},\"ternary\":{\"bgcolor\":\"#E5ECF6\",\"aaxis\":{\"gridcolor\":\"white\",\"linecolor\":\"white\",\"ticks\":\"\"},\"baxis\":{\"gridcolor\":\"white\",\"linecolor\":\"white\",\"ticks\":\"\"},\"caxis\":{\"gridcolor\":\"white\",\"linecolor\":\"white\",\"ticks\":\"\"}},\"coloraxis\":{\"colorbar\":{\"outlinewidth\":0,\"ticks\":\"\"}},\"colorscale\":{\"sequential\":[[0.0,\"#0d0887\"],[0.1111111111111111,\"#46039f\"],[0.2222222222222222,\"#7201a8\"],[0.3333333333333333,\"#9c179e\"],[0.4444444444444444,\"#bd3786\"],[0.5555555555555556,\"#d8576b\"],[0.6666666666666666,\"#ed7953\"],[0.7777777777777778,\"#fb9f3a\"],[0.8888888888888888,\"#fdca26\"],[1.0,\"#f0f921\"]],\"sequentialminus\":[[0.0,\"#0d0887\"],[0.1111111111111111,\"#46039f\"],[0.2222222222222222,\"#7201a8\"],[0.3333333333333333,\"#9c179e\"],[0.4444444444444444,\"#bd3786\"],[0.5555555555555556,\"#d8576b\"],[0.6666666666666666,\"#ed7953\"],[0.7777777777777778,\"#fb9f3a\"],[0.8888888888888888,\"#fdca26\"],[1.0,\"#f0f921\"]],\"diverging\":[[0,\"#8e0152\"],[0.1,\"#c51b7d\"],[0.2,\"#de77ae\"],[0.3,\"#f1b6da\"],[0.4,\"#fde0ef\"],[0.5,\"#f7f7f7\"],[0.6,\"#e6f5d0\"],[0.7,\"#b8e186\"],[0.8,\"#7fbc41\"],[0.9,\"#4d9221\"],[1,\"#276419\"]]},\"xaxis\":{\"gridcolor\":\"white\",\"linecolor\":\"white\",\"ticks\":\"\",\"title\":{\"standoff\":15},\"zerolinecolor\":\"white\",\"automargin\":true,\"zerolinewidth\":2},\"yaxis\":{\"gridcolor\":\"white\",\"linecolor\":\"white\",\"ticks\":\"\",\"title\":{\"standoff\":15},\"zerolinecolor\":\"white\",\"automargin\":true,\"zerolinewidth\":2},\"scene\":{\"xaxis\":{\"backgroundcolor\":\"#E5ECF6\",\"gridcolor\":\"white\",\"linecolor\":\"white\",\"showbackground\":true,\"ticks\":\"\",\"zerolinecolor\":\"white\",\"gridwidth\":2},\"yaxis\":{\"backgroundcolor\":\"#E5ECF6\",\"gridcolor\":\"white\",\"linecolor\":\"white\",\"showbackground\":true,\"ticks\":\"\",\"zerolinecolor\":\"white\",\"gridwidth\":2},\"zaxis\":{\"backgroundcolor\":\"#E5ECF6\",\"gridcolor\":\"white\",\"linecolor\":\"white\",\"showbackground\":true,\"ticks\":\"\",\"zerolinecolor\":\"white\",\"gridwidth\":2}},\"shapedefaults\":{\"line\":{\"color\":\"#2a3f5f\"}},\"annotationdefaults\":{\"arrowcolor\":\"#2a3f5f\",\"arrowhead\":0,\"arrowwidth\":1},\"geo\":{\"bgcolor\":\"white\",\"landcolor\":\"#E5ECF6\",\"subunitcolor\":\"white\",\"showland\":true,\"showlakes\":true,\"lakecolor\":\"white\"},\"title\":{\"x\":0.05},\"mapbox\":{\"style\":\"light\"}}},\"xaxis\":{\"anchor\":\"y\",\"domain\":[0.0,1.0],\"title\":{\"text\":\"time\"}},\"yaxis\":{\"anchor\":\"x\",\"domain\":[0.0,1.0],\"title\":{\"text\":\"close\"}},\"legend\":{\"tracegroupgap\":0},\"margin\":{\"t\":60}},                        {\"responsive\": true}                    ).then(function(){\n",
       "                            \n",
       "var gd = document.getElementById('93355f16-c5cd-4e3f-a31a-290ee6943b2b');\n",
       "var x = new MutationObserver(function (mutations, observer) {{\n",
       "        var display = window.getComputedStyle(gd).display;\n",
       "        if (!display || display === 'none') {{\n",
       "            console.log([gd, 'removed!']);\n",
       "            Plotly.purge(gd);\n",
       "            observer.disconnect();\n",
       "        }}\n",
       "}});\n",
       "\n",
       "// Listen for the removal of the full notebook cells\n",
       "var notebookContainer = gd.closest('#notebook-container');\n",
       "if (notebookContainer) {{\n",
       "    x.observe(notebookContainer, {childList: true});\n",
       "}}\n",
       "\n",
       "// Listen for the clearing of the current output cell\n",
       "var outputEl = gd.closest('.output');\n",
       "if (outputEl) {{\n",
       "    x.observe(outputEl, {childList: true});\n",
       "}}\n",
       "\n",
       "                        })                };                });            </script>        </div>"
      ]
     },
     "metadata": {},
     "output_type": "display_data"
    }
   ],
   "source": [
    "import plotly.express as px\n",
    "\n",
    "ohlc = generate_ohlc(SYMBOL)\n",
    "fig = px.line(ohlc, x = ohlc['time'], y = ohlc['close'])\n",
    "fig.show()"
   ]
  },
  {
   "cell_type": "code",
   "execution_count": 225,
   "id": "f0044df3",
   "metadata": {},
   "outputs": [],
   "source": [
    "# order request examples\n",
    "volume = 0.01\n",
    "\n",
    "# BUY position\n",
    "buy_take_profit = 1.11175\n",
    "buy_stop_loss = 1.11150\n",
    "buy_request = {\n",
    "    \"action\": mt.TRADE_ACTION_DEAL,\n",
    "    \"symbol\": SYMBOL,\n",
    "    \"volume\": volume, # FLOAT\n",
    "    \"type\": mt.ORDER_TYPE_BUY,\n",
    "    \"price\": mt.symbol_info_tick(SYMBOL).ask,\n",
    "    \"sl\": buy_stop_loss, # FLOAT\n",
    "    \"tp\": buy_take_profit, # FLOAT\n",
    "    \"comment\": \"Buy Position Opened.\",\n",
    "    \"type_time\": mt.ORDER_TIME_GTC,\n",
    "    \"type_filling\": mt.ORDER_FILLING_FOK,\n",
    "}\n",
    "\n",
    "# SELL position\n",
    "sell_stop_loss = 1.11175\n",
    "sell_take_profit = 1.11150\n",
    "sell_request = {\n",
    "    \"action\": mt.TRADE_ACTION_DEAL,\n",
    "    \"symbol\": SYMBOL,\n",
    "    \"volume\": volume,\n",
    "    \"type\": mt.ORDER_TYPE_SELL,\n",
    "    \"price\": mt.symbol_info_tick(SYMBOL).bid,\n",
    "    \"sl\": sell_stop_loss,\n",
    "    \"tp\": sell_take_profit,\n",
    "    \"comment\": \"Sell Position Opened.\",\n",
    "    \"type_time\": mt.ORDER_TIME_GTC,\n",
    "    \"type_filling\": mt.ORDER_FILLING_FOK,\n",
    "}"
   ]
  },
  {
   "cell_type": "code",
   "execution_count": 182,
   "id": "759fe0ba",
   "metadata": {},
   "outputs": [],
   "source": [
    "result = mt.order_send(buy_request)\n",
    "\n",
    "position_id = result._asdict()['order']"
   ]
  },
  {
   "cell_type": "code",
   "execution_count": 218,
   "id": "eb2f77ea",
   "metadata": {},
   "outputs": [
    {
     "name": "stdout",
     "output_type": "stream",
     "text": [
      "OrderSendResult(retcode=10009, deal=3667969, order=6533490, volume=0.01, price=1.11283, bid=0.0, ask=0.0, comment='Request executed', request_id=387331974, retcode_external=0, request=TradeRequest(action=1, magic=0, order=0, symbol='EURUSD', volume=0.01, price=0.0, stoplimit=0.0, sl=0.0, tp=0.0, deviation=0, type=0, type_filling=0, type_time=0, expiration=0, comment='Sell Position Closed.', position=0, position_by=0))\n"
     ]
    }
   ],
   "source": [
    "# order closing examples\n",
    "\n",
    "# BUY order closing\n",
    "request = {\n",
    "    \"action\": mt.TRADE_ACTION_DEAL,\n",
    "    \"symbol\": SYMBOL,\n",
    "    \"volume\": volume, # FLOAT\n",
    "    \"type\": mt.ORDER_TYPE_SELL,\n",
    "    \"position\": position_id, # id of the position we want to close\n",
    "    \"comment\": \"Buy Position Closed.\",\n",
    "    \"type_time\": mt.ORDER_TIME_GTC,\n",
    "    \"type_filling\": mt.ORDER_FILLING_FOK,\n",
    "}\n",
    "\n",
    "# SELL order closing\n",
    "request = {\n",
    "    \"action\": mt.TRADE_ACTION_DEAL,\n",
    "    \"symbol\": SYMBOL,\n",
    "    \"volume\": volume, # FLOAT\n",
    "    \"type\": mt.ORDER_TYPE_BUY,\n",
    "    \"position\": position_id, # id of the position we want to close\n",
    "    \"comment\": \"Sell Position Closed.\",\n",
    "    \"type_time\": mt.ORDER_TIME_GTC,\n",
    "    \"type_filling\": mt.ORDER_FILLING_FOK,\n",
    "}\n",
    "\n",
    "close = mt.order_send(request)\n",
    "print(close)"
   ]
  },
  {
   "cell_type": "code",
   "execution_count": null,
   "id": "0ac4ca61",
   "metadata": {},
   "outputs": [],
   "source": []
  },
  {
   "cell_type": "code",
   "execution_count": 223,
   "id": "f6f61df3",
   "metadata": {},
   "outputs": [],
   "source": [
    "# constants\n",
    "SYMBOL = \"EURUSD\"\n",
    "QTY = 0.01\n",
    "ITERATIONS = 15\n",
    "SL_PCT = 0.05\n",
    "TP_PCT = 0.1\n",
    "\n",
    "BUY_TYPE = 0\n",
    "SELL_TYPE = 1\n",
    "\n",
    "def order_type_to_str(order_type):\n",
    "    \"\"\"Converts numeric order type to its string representation.\"\"\"\n",
    "    if order_type == BUY_ORDER_TYPE:\n",
    "        return \"BUY\"\n",
    "    elif order_type == SELL_ORDER_TYPE:\n",
    "        return \"SELL\"\n",
    "    else:\n",
    "        return \"UNKNOWN\"\n",
    "    \n",
    "def close_type_to_str(order_type):\n",
    "    \"\"\"Converts numeric close type to its string representation.\"\"\"\n",
    "    if order_type == BUY_ORDER_TYPE:\n",
    "        return \"SELL\"\n",
    "    elif order_type == SELL_ORDER_TYPE:\n",
    "        return \"BUY\"\n",
    "    else:\n",
    "        return \"UNKNOWN\"\n",
    "\n",
    "BUY_ORDER_TYPE = mt.ORDER_TYPE_BUY\n",
    "SELL_ORDER_TYPE = mt.ORDER_TYPE_SELL\n",
    "\n",
    "# utility\n",
    "def get_current_market_times():\n",
    "    \"\"\"Fixes timezone handling for market times, including DST adjustment.\"\"\"\n",
    "    UTC_TIMEZONE = timezone(\"Etc/UTC\")\n",
    "    NYC_TIMEZONE = timezone(\"America/New_York\")\n",
    "    \n",
    "    now_date = datetime.now(UTC_TIMEZONE).replace(second=0, microsecond=0)\n",
    "    \n",
    "    nyc_time = datetime.now(NYC_TIMEZONE)\n",
    "    \n",
    "    # adjust for DST and GMT offset (+2 hours for this use case)\n",
    "    current_gmt = now_date + nyc_time.dst() + timedelta(hours=2)\n",
    "    \n",
    "    today_start_utc = datetime.combine(now_date.date(), dt_time.min).replace(tzinfo=UTC_TIMEZONE)\n",
    "    today_gmt_start = today_start_utc + nyc_time.dst() + timedelta(hours=2)\n",
    "    \n",
    "    return today_gmt_start, current_gmt\n",
    "    \n",
    "def generate_ohlc(symbol):\n",
    "    \"\"\"Generates OHLC data for the given symbol and timeframe.\"\"\"\n",
    "    start_time, now = get_current_market_times()\n",
    "    \n",
    "    ohlc = pd.DataFrame(mt.copy_rates_range(symbol, mt.TIMEFRAME_M1, start_time, now))\n",
    "    ohlc['time'] = pd.to_datetime(ohlc['time'], unit='s')\n",
    "    return ohlc\n",
    "\n",
    "\n",
    "def create_order_request(symbol, qty, order_type, price, sl, tp):\n",
    "    \"\"\"Creates a request dictionary for sending an order.\"\"\"\n",
    "    return {\n",
    "        \"action\": mt.TRADE_ACTION_DEAL,\n",
    "        \"symbol\": symbol,\n",
    "        \"volume\": qty,\n",
    "        \"type\": order_type,\n",
    "        \"price\": price,\n",
    "        \"sl\": sl,\n",
    "        \"tp\": tp,\n",
    "        \"comment\": \"Position Opened.\",\n",
    "        \"type_time\": mt.ORDER_TIME_GTC,\n",
    "        \"type_filling\": mt.ORDER_FILLING_FOK,\n",
    "    }\n",
    "\n",
    "\n",
    "def create_close_request(symbol, qty, order_type, price):\n",
    "    position = mt.positions_get()[0]._asdict()['ticket']\n",
    "    \n",
    "    \"\"\"Creates a request dictionary for closing an order.\"\"\"\n",
    "    return {\n",
    "        \"action\": mt.TRADE_ACTION_DEAL,\n",
    "        \"symbol\": symbol,\n",
    "        \"volume\": qty,\n",
    "        \"type\": order_type,\n",
    "        \"price\": price,\n",
    "        \"position\": position,\n",
    "        \"comment\": \"Position Closed.\",\n",
    "        \"type_time\": mt.ORDER_TIME_GTC,\n",
    "        \"type_filling\": mt.ORDER_FILLING_FOK,\n",
    "    }\n",
    "\n",
    "\n",
    "def place_order(symbol, qty, order_type, price, sl, tp):\n",
    "    \"\"\"Places a market order.\"\"\"\n",
    "    request = create_order_request(symbol, qty, order_type, price, sl, tp)\n",
    "    return mt.order_send(request)\n",
    "\n",
    "\n",
    "def close_order(symbol, qty, close_type, price):\n",
    "    \"\"\"Closes an existing position.\"\"\"\n",
    "    request = create_close_request(symbol, qty, close_type, price)\n",
    "    return mt.order_send(request)\n",
    "\n",
    "\n",
    "def add_deal(deals, order_type, price, qty):\n",
    "    \"\"\"Adds a deal to the list of deals.\"\"\"\n",
    "    deals.append({\n",
    "        \"type\": order_type,\n",
    "        \"profit\": None,\n",
    "        \"price\": price,\n",
    "        \"qty\": qty,\n",
    "    })\n",
    "    return deals\n",
    "\n",
    "\n",
    "def calculate_deal_profit(deals, close_price, qty):\n",
    "    \"\"\"Calculates and updates the profit for the last deal.\"\"\"\n",
    "    last_deal = deals[-1]\n",
    "    price_diff = close_price - last_deal['price']\n",
    "    if last_deal['type'] == SELL_TYPE:\n",
    "        price_diff *= -1  # reverse for sell orders\n",
    "    \n",
    "    profit = qty * price_diff\n",
    "    last_deal['profit'] = round(profit, 2)  # round profit to 2 decimal places\n",
    "    return deals"
   ]
  },
  {
   "cell_type": "code",
   "execution_count": 228,
   "id": "4d531db8",
   "metadata": {},
   "outputs": [
    {
     "name": "stdout",
     "output_type": "stream",
     "text": [
      "SELL Order Placed - 1.11249.\n",
      "OrderSendResult(retcode=10009, deal=3668045, order=6533582, volume=0.01, price=1.11259, bid=0.0, ask=0.0, comment='Request executed', request_id=387331977, retcode_external=0, request=TradeRequest(action=1, magic=0, order=0, symbol='EURUSD', volume=0.01, price=1.11244, stoplimit=0.0, sl=0.0, tp=0.0, deviation=0, type=0, type_filling=0, type_time=0, expiration=0, comment='Position Closed.', position=6533569, position_by=0))\n",
      "SELL Position Closed.\n",
      "Profit Made From SELL Position: 0.0\n",
      "BUY Order Placed - 1.11253.\n",
      "OrderSendResult(retcode=10009, deal=3668112, order=6533657, volume=0.01, price=1.11234, bid=0.0, ask=0.0, comment='Request executed', request_id=387331979, retcode_external=0, request=TradeRequest(action=1, magic=0, order=0, symbol='EURUSD', volume=0.01, price=1.11234, stoplimit=0.0, sl=0.0, tp=0.0, deviation=0, type=1, type_filling=0, type_time=0, expiration=0, comment='Position Closed.', position=6533644, position_by=0))\n",
      "BUY Position Closed.\n",
      "Profit Made From BUY Position: -0.0\n",
      "SELL Order Placed - 1.11234.\n",
      "OrderSendResult(retcode=10013, deal=0, order=0, volume=0.0, price=0.0, bid=0.0, ask=0.0, comment='Invalid request', request_id=0, retcode_external=0, request=TradeRequest(action=1, magic=0, order=0, symbol='EURUSD', volume=0.01, price=1.11248, stoplimit=0.0, sl=0.0, tp=0.0, deviation=0, type=1, type_filling=0, type_time=0, expiration=0, comment='Position Closed.', position=6533659, position_by=0))\n",
      "BUY Position Closed.\n",
      "Profit Made From BUY Position: -0.0\n",
      "OrderSendResult(retcode=10009, deal=3668413, order=6533963, volume=0.01, price=1.11202, bid=0.0, ask=0.0, comment='Request executed', request_id=387331981, retcode_external=0, request=TradeRequest(action=1, magic=0, order=0, symbol='EURUSD', volume=0.01, price=1.11189, stoplimit=0.0, sl=0.0, tp=0.0, deviation=0, type=0, type_filling=0, type_time=0, expiration=0, comment='Position Closed.', position=6533659, position_by=0))\n",
      "SELL Position Closed.\n",
      "Profit Made From SELL Position: 0.0\n",
      "\n",
      "Summary of Closed Positions:\n",
      "   Type  Profit\n",
      "0     1     0.0\n",
      "1     0    -0.0\n",
      "2     1     0.0\n",
      "\n",
      "Total Profit: 0.0\n"
     ]
    }
   ],
   "source": [
    "def initialize_conditions(ohlc):\n",
    "    \"\"\"Extracts the current, last close, high, and low prices for conditions.\"\"\"\n",
    "    current_close = ohlc['close'].iloc[-1]\n",
    "    last_close = ohlc['close'].iloc[-2]\n",
    "    last_high = ohlc['high'].iloc[-2]\n",
    "    last_low = ohlc['low'].iloc[-2]\n",
    "    \n",
    "    return current_close, last_close, last_high, last_low\n",
    "\n",
    "\n",
    "def get_price_info():\n",
    "    \"\"\"Gets the current buy and sell prices and calculates stop-loss and take-profit.\"\"\"\n",
    "    buy_price = mt.symbol_info_tick(SYMBOL).ask\n",
    "    sell_price = mt.symbol_info_tick(SYMBOL).bid\n",
    "\n",
    "    buy_sl = buy_price * (1 - SL_PCT)\n",
    "    buy_tp = buy_price * (1 + TP_PCT)\n",
    "    sell_sl = sell_price * (1 + SL_PCT)\n",
    "    sell_tp = sell_price * (1 - TP_PCT)\n",
    "    \n",
    "    return buy_price, sell_price, buy_sl, buy_tp, sell_sl, sell_tp\n",
    "\n",
    "\n",
    "def open_position(deals, order_type, price, sl, tp):\n",
    "    \"\"\"Handles placing orders, updating deal information.\"\"\"\n",
    "    order_type_str = order_type_to_str(order_type)\n",
    "    \n",
    "    place_order(SYMBOL, QTY, order_type, price, sl, tp)\n",
    "    print(f\"{order_type_str} Order Placed - {price}.\")\n",
    "    deals = add_deal(deals, order_type, price, QTY)\n",
    "    \n",
    "    return deals\n",
    "\n",
    "\n",
    "def close_position(deals, close_type, price):\n",
    "    \"\"\"Handles placing and closing orders, updating deal information.\"\"\"\n",
    "    close_type_str = close_type_to_str(close_type)\n",
    "    \n",
    "    close_order(SYMBOL, QTY, close_type, price)\n",
    "    print(f\"{close_type_str} Position Closed.\")\n",
    "    deals = calculate_deal_profit(deals, price, QTY)\n",
    "    print(f\"Profit Made From {close_type_str} Position: {deals[-1]['profit']}\")\n",
    "    \n",
    "    return deals\n",
    "\n",
    "\n",
    "def execute_strategy(deals):\n",
    "    \"\"\"Executes the trading strategy for each iteration.\"\"\"\n",
    "    for _ in range(ITERATIONS):\n",
    "        ohlc = generate_ohlc(SYMBOL)\n",
    "        current_close, last_close, last_high, last_low = initialize_conditions(ohlc)\n",
    "        buy_price, sell_price, buy_sl, buy_tp, sell_sl, sell_tp = get_price_info()\n",
    "\n",
    "        long_condition = current_close > last_high\n",
    "        short_condition = current_close < last_low\n",
    "        closelong_condition = current_close < last_close\n",
    "        closeshort_condition = current_close > last_close\n",
    "\n",
    "        positions = mt.positions_get()\n",
    "        no_positions = len(positions) == 0\n",
    "        already_buy = already_sell = False\n",
    "        try:\n",
    "            if positions:\n",
    "                pos_type = positions[0]._asdict()['type']\n",
    "                already_buy = pos_type == BUY_TYPE\n",
    "                already_sell = pos_type == SELL_TYPE\n",
    "        except Exception as e:\n",
    "            print(f\"Error checking positions: {e}\")\n",
    "\n",
    "        if long_condition:\n",
    "            if no_positions:\n",
    "                deals = open_position(deals, BUY_ORDER_TYPE, buy_price, buy_sl, buy_tp)\n",
    "            if already_sell:\n",
    "                deals = close_position(deals, BUY_ORDER_TYPE, buy_price)\n",
    "                deals = open_position(deals, BUY_ORDER_TYPE, buy_price, buy_sl, buy_tp)\n",
    "\n",
    "        if short_condition:\n",
    "            if no_positions:\n",
    "                deals = open_position(deals, SELL_ORDER_TYPE, sell_price, sell_sl, sell_tp)\n",
    "            if already_buy:\n",
    "                deals = close_position(deals, SELL_ORDER_TYPE, sell_price)\n",
    "                deals = open_position(deals, SELL_ORDER_TYPE, sell_price, sell_sl, sell_tp)\n",
    "                \n",
    "        if closelong_condition and already_buy:\n",
    "            deals = close_position(deals, SELL_ORDER_TYPE, buy_price)\n",
    "        elif closeshort_condition and already_sell:\n",
    "            deals = close_position(deals, BUY_ORDER_TYPE, sell_price)\n",
    "\n",
    "        time.sleep(60)\n",
    "    \n",
    "    return deals\n",
    "\n",
    "\n",
    "def close_remaining_positions(deals):\n",
    "    \"\"\"Closes any remaining open positions after the iterations are complete.\"\"\"\n",
    "    if len(mt.positions_get()) != 0:\n",
    "        already_buy = mt.positions_get()[0]._asdict()['type'] == BUY_TYPE\n",
    "        already_sell = mt.positions_get()[0]._asdict()['type'] == SELL_TYPE\n",
    "        if already_buy:\n",
    "            deals = close_position(deals, SELL_ORDER_TYPE, sell_price)\n",
    "        if already_sell:\n",
    "            deals = close_position(deals, BUY_ORDER_TYPE, buy_price)\n",
    "    return deals\n",
    "\n",
    "\n",
    "def print_summary(deals):\n",
    "    \"\"\"Prints a summary of all closed positions and the total profit.\"\"\"\n",
    "    df = pd.DataFrame([{\n",
    "        'Type': deal['type'],\n",
    "        'Profit': deal['profit'],\n",
    "    } for deal in deals])\n",
    "\n",
    "    total_profit = df['Profit'].sum()\n",
    "    \n",
    "    print(\"\\nSummary of Closed Positions:\")\n",
    "    print(df)\n",
    "    print(f\"\\nTotal Profit: {total_profit}\")\n",
    "\n",
    "# main execution\n",
    "deals = []\n",
    "deals = execute_strategy(deals)\n",
    "deals = close_remaining_positions(deals)\n",
    "print_summary(deals)"
   ]
  },
  {
   "cell_type": "code",
   "execution_count": null,
   "id": "e835bd04",
   "metadata": {},
   "outputs": [],
   "source": []
  }
 ],
 "metadata": {
  "kernelspec": {
   "display_name": "Python 3 (ipykernel)",
   "language": "python",
   "name": "python3"
  },
  "language_info": {
   "codemirror_mode": {
    "name": "ipython",
    "version": 3
   },
   "file_extension": ".py",
   "mimetype": "text/x-python",
   "name": "python",
   "nbconvert_exporter": "python",
   "pygments_lexer": "ipython3",
   "version": "3.11.5"
  }
 },
 "nbformat": 4,
 "nbformat_minor": 5
}
