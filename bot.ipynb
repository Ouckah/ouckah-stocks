{
 "cells": [
  {
   "cell_type": "code",
   "execution_count": 10,
   "id": "8aa5aee5",
   "metadata": {},
   "outputs": [
    {
     "name": "stdout",
     "output_type": "stream",
     "text": [
      "Requirement already satisfied: MetaTrader5 in c:\\users\\datbl\\anaconda3\\lib\\site-packages (5.0.4424)Note: you may need to restart the kernel to use updated packages.\n",
      "\n",
      "Requirement already satisfied: numpy>=1.7 in c:\\users\\datbl\\anaconda3\\lib\\site-packages (from MetaTrader5) (1.24.3)\n"
     ]
    }
   ],
   "source": [
    "pip install MetaTrader5"
   ]
  },
  {
   "cell_type": "code",
   "execution_count": 38,
   "id": "6efb6ed8",
   "metadata": {},
   "outputs": [],
   "source": [
    "import pandas as pd\n",
    "import MetaTrader5 as mt\n",
    "\n",
    "import time\n",
    "from datetime import datetime"
   ]
  },
  {
   "cell_type": "code",
   "execution_count": 39,
   "id": "246373f1",
   "metadata": {},
   "outputs": [],
   "source": [
    "if not mt.initialize():\n",
    "    print(\"Error: Failed to initialize MetaTrader.\")"
   ]
  },
  {
   "cell_type": "code",
   "execution_count": 40,
   "id": "e36048f9",
   "metadata": {},
   "outputs": [
    {
     "name": "stdout",
     "output_type": "stream",
     "text": [
      "Error: Failed to login.\n"
     ]
    }
   ],
   "source": [
    "from config import login, password, server\n",
    "\n",
    "if not mt.login(login, password, server):\n",
    "    print(\"Error: Failed to login.\")"
   ]
  },
  {
   "cell_type": "code",
   "execution_count": 41,
   "id": "85ee9800",
   "metadata": {},
   "outputs": [
    {
     "name": "stdout",
     "output_type": "stream",
     "text": [
      "AccountInfo(login=5029083886, trade_mode=2, leverage=0, limit_orders=0, margin_so_mode=0, trade_allowed=False, trade_expert=True, margin_mode=0, currency_digits=0, fifo_close=False, balance=0.0, credit=0.0, profit=0.0, equity=0.0, margin=0.0, margin_free=0.0, margin_level=0.0, margin_so_call=0.0, margin_so_so=0.0, margin_initial=0.0, margin_maintenance=0.0, assets=0.0, liabilities=0.0, commission_blocked=0.0, name='', server='MetaQuotes-Demo', currency='', company='')\n",
      "\n",
      "Login Number: 5029083886\n",
      "Balance: 0.0\n",
      "Equity: 0.0\n"
     ]
    }
   ],
   "source": [
    "account_info = mt.account_info()\n",
    "print(account_info)\n",
    "\n",
    "if not account_info:\n",
    "    print(\"Error: Account not found.\")\n",
    "else:\n",
    "    login_number = account_info.login\n",
    "    balance = account_info.balance\n",
    "    equity = account_info.equity\n",
    "\n",
    "    print()\n",
    "    print(f\"Login Number: {login_number}\")\n",
    "    print(f\"Balance: {balance}\")\n",
    "    print(f\"Equity: {equity}\")"
   ]
  },
  {
   "cell_type": "code",
   "execution_count": null,
   "id": "01583772",
   "metadata": {},
   "outputs": [],
   "source": []
  }
 ],
 "metadata": {
  "kernelspec": {
   "display_name": "Python 3 (ipykernel)",
   "language": "python",
   "name": "python3"
  },
  "language_info": {
   "codemirror_mode": {
    "name": "ipython",
    "version": 3
   },
   "file_extension": ".py",
   "mimetype": "text/x-python",
   "name": "python",
   "nbconvert_exporter": "python",
   "pygments_lexer": "ipython3",
   "version": "3.11.5"
  }
 },
 "nbformat": 4,
 "nbformat_minor": 5
}
